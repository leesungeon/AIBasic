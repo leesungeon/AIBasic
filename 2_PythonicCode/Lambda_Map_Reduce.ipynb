{
 "cells": [
  {
   "cell_type": "markdown",
   "id": "270f56d3",
   "metadata": {},
   "source": [
    "# Lambda"
   ]
  },
  {
   "cell_type": "markdown",
   "id": "b0d9e86b",
   "metadata": {},
   "source": [
    "* 함수 이름 없이, 함수처럼 쓸 수 있는 익명 함수"
   ]
  },
  {
   "cell_type": "code",
   "execution_count": 1,
   "id": "8793fcca",
   "metadata": {},
   "outputs": [
    {
     "data": {
      "text/plain": [
       "5"
      ]
     },
     "execution_count": 1,
     "metadata": {},
     "output_type": "execute_result"
    }
   ],
   "source": [
    "def f(x, y):\n",
    "    return x + y\n",
    "\n",
    "f(1, 4)"
   ]
  },
  {
   "cell_type": "code",
   "execution_count": 2,
   "id": "5915c0c7",
   "metadata": {},
   "outputs": [
    {
     "data": {
      "text/plain": [
       "60"
      ]
     },
     "execution_count": 2,
     "metadata": {},
     "output_type": "execute_result"
    }
   ],
   "source": [
    "f = (lambda x, y : x + y)\n",
    "f(10, 50)"
   ]
  },
  {
   "cell_type": "code",
   "execution_count": 3,
   "id": "1cab87aa",
   "metadata": {},
   "outputs": [
    {
     "data": {
      "text/plain": [
       "60"
      ]
     },
     "execution_count": 3,
     "metadata": {},
     "output_type": "execute_result"
    }
   ],
   "source": [
    "(lambda x, y : x + y)(10, 50)"
   ]
  },
  {
   "cell_type": "code",
   "execution_count": 4,
   "id": "ae4e7a52",
   "metadata": {},
   "outputs": [],
   "source": [
    "up_low = lambda x : \"-\".join(x.split())"
   ]
  },
  {
   "cell_type": "code",
   "execution_count": 5,
   "id": "7c8b7438",
   "metadata": {},
   "outputs": [
    {
     "data": {
      "text/plain": [
       "'My-Happy'"
      ]
     },
     "execution_count": 5,
     "metadata": {},
     "output_type": "execute_result"
    }
   ],
   "source": [
    "up_low(\"My Happy\")"
   ]
  },
  {
   "cell_type": "markdown",
   "id": "769521ea",
   "metadata": {},
   "source": [
    "* 어려운 문법\n",
    "* 테스트의 어려움\n",
    "* 문서화 docstring 지원 미비\n",
    "* 코드 해석의 어려움\n",
    "* 이름이 존재하지 않는 함수의 출현\n",
    "* 그래도 많이 쓴다..."
   ]
  },
  {
   "cell_type": "markdown",
   "id": "81f6bded",
   "metadata": {},
   "source": [
    "# Map"
   ]
  },
  {
   "cell_type": "markdown",
   "id": "439c8c26",
   "metadata": {},
   "source": [
    "* 두 개 이상의 list에도 적용 가능함\n",
    "* if filter도 사용 가능"
   ]
  },
  {
   "cell_type": "code",
   "execution_count": 7,
   "id": "4440048f",
   "metadata": {},
   "outputs": [
    {
     "data": {
      "text/plain": [
       "[1, 4, 9, 16, 25]"
      ]
     },
     "execution_count": 7,
     "metadata": {},
     "output_type": "execute_result"
    }
   ],
   "source": [
    "ex = [1, 2, 3, 4, 5]\n",
    "f = lambda x : x ** 2\n",
    "list(map(f, ex))"
   ]
  },
  {
   "cell_type": "code",
   "execution_count": 8,
   "id": "4967342e",
   "metadata": {},
   "outputs": [
    {
     "data": {
      "text/plain": [
       "[2, 4, 6, 8, 10]"
      ]
     },
     "execution_count": 8,
     "metadata": {},
     "output_type": "execute_result"
    }
   ],
   "source": [
    "f = lambda x, y : x + y\n",
    "list(map(f, ex, ex))"
   ]
  },
  {
   "cell_type": "code",
   "execution_count": 9,
   "id": "d73bc6a9",
   "metadata": {},
   "outputs": [
    {
     "data": {
      "text/plain": [
       "[1, 4, 9, 16, 25]"
      ]
     },
     "execution_count": 9,
     "metadata": {},
     "output_type": "execute_result"
    }
   ],
   "source": [
    "ex = [1, 2, 3, 4, 5]\n",
    "f = lambda x : x ** 2\n",
    "\n",
    "[f(value) for value in ex]"
   ]
  },
  {
   "cell_type": "markdown",
   "id": "fd5bb63a",
   "metadata": {},
   "source": [
    "# Reduce"
   ]
  },
  {
   "cell_type": "markdown",
   "id": "0e48af96",
   "metadata": {},
   "source": [
    "* Map Function과 달리 List에 똑같은 함수를 적용해서 통합"
   ]
  },
  {
   "cell_type": "code",
   "execution_count": 10,
   "id": "42ed04e9",
   "metadata": {},
   "outputs": [
    {
     "data": {
      "text/plain": [
       "15"
      ]
     },
     "execution_count": 10,
     "metadata": {},
     "output_type": "execute_result"
    }
   ],
   "source": [
    "from functools import reduce\n",
    "reduce(lambda x, y : x + y, [1,2,3,4,5])"
   ]
  },
  {
   "cell_type": "markdown",
   "id": "003f4119",
   "metadata": {},
   "source": [
    "* 코드의 직관성이 떨어져서 lambda나 reduce는 python3에서 사용을 권장하지 않음"
   ]
  }
 ],
 "metadata": {
  "kernelspec": {
   "display_name": "Python 3 (ipykernel)",
   "language": "python",
   "name": "python3"
  },
  "language_info": {
   "codemirror_mode": {
    "name": "ipython",
    "version": 3
   },
   "file_extension": ".py",
   "mimetype": "text/x-python",
   "name": "python",
   "nbconvert_exporter": "python",
   "pygments_lexer": "ipython3",
   "version": "3.8.10"
  }
 },
 "nbformat": 4,
 "nbformat_minor": 5
}
