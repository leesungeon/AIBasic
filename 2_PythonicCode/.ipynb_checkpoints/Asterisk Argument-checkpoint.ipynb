{
 "cells": [
  {
   "cell_type": "markdown",
   "id": "338a979c",
   "metadata": {},
   "source": [
    "# Asterisk Argument"
   ]
  },
  {
   "cell_type": "markdown",
   "id": "7fa1d71c",
   "metadata": {},
   "source": [
    "* 개수가 정해지지 않은 변수를 함수의 parameter로 사용할 때\n",
    "* Asterisk(*) 기호를 사용하여 함수의 parameter를 표시함\n",
    "* 입력된 값은 tuple type으로 사용할 수 있음\n",
    "* 가변인자는 오직 한 개만 맨 마지막 parameter 위치에 사용 가능"
   ]
  },
  {
   "cell_type": "code",
   "execution_count": 2,
   "id": "a5f35cfd",
   "metadata": {},
   "outputs": [
    {
     "name": "stdout",
     "output_type": "stream",
     "text": [
      "[3, 4, 5]\n",
      "<class 'tuple'>\n"
     ]
    },
    {
     "data": {
      "text/plain": [
       "15"
      ]
     },
     "execution_count": 2,
     "metadata": {},
     "output_type": "execute_result"
    }
   ],
   "source": [
    "def asterisk_test(a, b, *args):\n",
    "    print(list(args))\n",
    "    print(type(args))\n",
    "    return a+b+sum(args)\n",
    "    \n",
    "asterisk_test(1, 2, 3, 4, 5)"
   ]
  },
  {
   "cell_type": "code",
   "execution_count": 3,
   "id": "114b6884",
   "metadata": {},
   "outputs": [
    {
     "name": "stdout",
     "output_type": "stream",
     "text": [
      "{'first': 3, 'second': 4, 'third': 5}\n"
     ]
    }
   ],
   "source": [
    "def kwargs_test_1(**kwargs):\n",
    "    print(kwargs)\n",
    "\n",
    "kwargs_test_1(first=3, second=4, third=5)"
   ]
  },
  {
   "cell_type": "code",
   "execution_count": 8,
   "id": "b3364dca",
   "metadata": {},
   "outputs": [
    {
     "name": "stdout",
     "output_type": "stream",
     "text": [
      "32\n",
      "(5, 6, 7)\n",
      "{'first': 3, 'second': 4, 'third': 5}\n"
     ]
    }
   ],
   "source": [
    "def kwargs_test_3(one, two=3, *args, **kwargs):\n",
    "    print(one + two + sum(args))\n",
    "    print(args)\n",
    "    print(kwargs)\n",
    "    \n",
    "kwargs_test_3(10, 4,5,6,7, first=3, second=4, third=5)"
   ]
  },
  {
   "cell_type": "code",
   "execution_count": 9,
   "id": "d7953a06",
   "metadata": {},
   "outputs": [
    {
     "name": "stdout",
     "output_type": "stream",
     "text": [
      "13\n",
      "()\n",
      "{'first': 3, 'second': 4, 'third': 5}\n"
     ]
    }
   ],
   "source": [
    "kwargs_test_3(10, first=3, second=4, third=5)"
   ]
  },
  {
   "cell_type": "markdown",
   "id": "4f82c0cb",
   "metadata": {},
   "source": [
    "# With Zip"
   ]
  },
  {
   "cell_type": "code",
   "execution_count": 12,
   "id": "906e14cc",
   "metadata": {},
   "outputs": [
    {
     "name": "stdout",
     "output_type": "stream",
     "text": [
      "(1, 3, 5, 5, 7)\n",
      "(2, 4, 6, 6, 8)\n"
     ]
    }
   ],
   "source": [
    "ex = ([1, 2], [3, 4], [5, 6], [5, 6], [7, 8])\n",
    "for value in zip(*ex):\n",
    "    print(sum(value)"
   ]
  }
 ],
 "metadata": {
  "kernelspec": {
   "display_name": "Python 3 (ipykernel)",
   "language": "python",
   "name": "python3"
  },
  "language_info": {
   "codemirror_mode": {
    "name": "ipython",
    "version": 3
   },
   "file_extension": ".py",
   "mimetype": "text/x-python",
   "name": "python",
   "nbconvert_exporter": "python",
   "pygments_lexer": "ipython3",
   "version": "3.8.10"
  }
 },
 "nbformat": 4,
 "nbformat_minor": 5
}
