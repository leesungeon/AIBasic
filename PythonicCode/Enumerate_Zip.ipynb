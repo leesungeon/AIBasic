{
 "cells": [
  {
   "cell_type": "markdown",
   "id": "3c9ec0ac",
   "metadata": {},
   "source": [
    "# Enumerate"
   ]
  },
  {
   "cell_type": "markdown",
   "id": "62390aa8",
   "metadata": {},
   "source": [
    "* List의 Element를 추출할 때 번호를 붙여서 추출"
   ]
  },
  {
   "cell_type": "code",
   "execution_count": 3,
   "id": "0b9fefa9",
   "metadata": {},
   "outputs": [
    {
     "name": "stdout",
     "output_type": "stream",
     "text": [
      "0\tA\n",
      "1\tB\n",
      "2\tC\n",
      "3\tD\n"
     ]
    }
   ],
   "source": [
    "for i ,v in enumerate(\"ABCD\"):\n",
    "    print(\"{0}\\t{1}\".format(i, v))"
   ]
  },
  {
   "cell_type": "code",
   "execution_count": 5,
   "id": "321981df",
   "metadata": {},
   "outputs": [
    {
     "name": "stdout",
     "output_type": "stream",
     "text": [
      "0 tic\n",
      "1 tac\n",
      "2 toe\n"
     ]
    }
   ],
   "source": [
    "for i ,v in enumerate(['tic', 'tac', 'toe']):\n",
    "    print(i, v)"
   ]
  },
  {
   "cell_type": "code",
   "execution_count": 6,
   "id": "bb36cde7",
   "metadata": {},
   "outputs": [
    {
     "data": {
      "text/plain": [
       "{0: 'A', 1: 'B', 2: 'C', 3: 'D'}"
      ]
     },
     "execution_count": 6,
     "metadata": {},
     "output_type": "execute_result"
    }
   ],
   "source": [
    "my_str = \"ABCD\"\n",
    "{i : v for i , v in enumerate(my_str)}"
   ]
  },
  {
   "cell_type": "code",
   "execution_count": 8,
   "id": "18115b47",
   "metadata": {},
   "outputs": [
    {
     "data": {
      "text/plain": [
       "{'samsung': 0,\n",
       " 'group': 1,\n",
       " 'is': 2,\n",
       " 'a': 3,\n",
       " 'south': 4,\n",
       " 'korean': 5,\n",
       " 'multinational': 6,\n",
       " 'conglomerate': 7,\n",
       " 'headquartered': 8,\n",
       " 'in': 9,\n",
       " 'samsung.': 10}"
      ]
     },
     "execution_count": 8,
     "metadata": {},
     "output_type": "execute_result"
    }
   ],
   "source": [
    "text = \"Samsung Group is a South Korean multinational conglomerate headquartered in Samsung.\"\n",
    "{v.lower() : i for i, v in enumerate(text.split())}"
   ]
  },
  {
   "cell_type": "code",
   "execution_count": 11,
   "id": "e062223b",
   "metadata": {},
   "outputs": [
    {
     "data": {
      "text/plain": [
       "{'is': 0,\n",
       " 'in': 1,\n",
       " 'conglomerate': 2,\n",
       " 'headquartered': 3,\n",
       " 'a': 4,\n",
       " 'group': 5,\n",
       " 'samsung': 6,\n",
       " 'multinational': 7,\n",
       " 'samsung.': 8,\n",
       " 'south': 9,\n",
       " 'korean': 10}"
      ]
     },
     "execution_count": 11,
     "metadata": {},
     "output_type": "execute_result"
    }
   ],
   "source": [
    "set_text = list(set(text.split()))\n",
    "{v.lower() : i for i, v in enumerate(set_text)}"
   ]
  },
  {
   "cell_type": "markdown",
   "id": "641dd510",
   "metadata": {},
   "source": [
    "# Zip"
   ]
  },
  {
   "cell_type": "code",
   "execution_count": 12,
   "id": "e518547d",
   "metadata": {},
   "outputs": [
    {
     "data": {
      "text/plain": [
       "[['a1', 'b1'], ['a2', 'b2'], ['a3', 'b3']]"
      ]
     },
     "execution_count": 12,
     "metadata": {},
     "output_type": "execute_result"
    }
   ],
   "source": [
    "alist = [\"a1\", \"a2\", \"a3\"]\n",
    "blist = [\"b1\", \"b2\", \"b3\"]\n",
    "\n",
    "[[a,b] for a, b in zip(alist, blist)]"
   ]
  },
  {
   "cell_type": "code",
   "execution_count": 13,
   "id": "cfa1694c",
   "metadata": {},
   "outputs": [
    {
     "data": {
      "text/plain": [
       "[('a1', 'b1'), ('a2', 'b2'), ('a3', 'b3')]"
      ]
     },
     "execution_count": 13,
     "metadata": {},
     "output_type": "execute_result"
    }
   ],
   "source": [
    "[c for c in zip(alist, blist)]"
   ]
  },
  {
   "cell_type": "code",
   "execution_count": 15,
   "id": "a7608259",
   "metadata": {},
   "outputs": [
    {
     "data": {
      "text/plain": [
       "[93.33333333333333, 86.66666666666667, 83.33333333333333]"
      ]
     },
     "execution_count": 15,
     "metadata": {},
     "output_type": "execute_result"
    }
   ],
   "source": [
    "math = (100, 80, 90)\n",
    "kor = (90, 90, 70)\n",
    "eng = (90, 90, 90)\n",
    "\n",
    "[sum(value) / 3 for value in zip(math, kor, eng)]"
   ]
  },
  {
   "cell_type": "markdown",
   "id": "2884235e",
   "metadata": {},
   "source": [
    "# Enumerate & Zip"
   ]
  },
  {
   "cell_type": "code",
   "execution_count": 16,
   "id": "832b8012",
   "metadata": {},
   "outputs": [
    {
     "name": "stdout",
     "output_type": "stream",
     "text": [
      "0 ('a1', 'b1')\n",
      "1 ('a2', 'b2')\n",
      "2 ('a3', 'b3')\n"
     ]
    }
   ],
   "source": [
    "alist = [\"a1\", \"a2\", \"a3\"]\n",
    "blist = [\"b1\", \"b2\", \"b3\"]\n",
    "\n",
    "for i, values in enumerate(zip(alist, blist)):\n",
    "    print(i, values)"
   ]
  },
  {
   "cell_type": "code",
   "execution_count": 17,
   "id": "b17ec033",
   "metadata": {},
   "outputs": [
    {
     "data": {
      "text/plain": [
       "[(0, ('a1', 'b1')), (1, ('a2', 'b2')), (2, ('a3', 'b3'))]"
      ]
     },
     "execution_count": 17,
     "metadata": {},
     "output_type": "execute_result"
    }
   ],
   "source": [
    "list(enumerate(zip(alist, blist)))"
   ]
  },
  {
   "cell_type": "code",
   "execution_count": null,
   "id": "afdd1376",
   "metadata": {},
   "outputs": [],
   "source": []
  }
 ],
 "metadata": {
  "kernelspec": {
   "display_name": "Python 3 (ipykernel)",
   "language": "python",
   "name": "python3"
  },
  "language_info": {
   "codemirror_mode": {
    "name": "ipython",
    "version": 3
   },
   "file_extension": ".py",
   "mimetype": "text/x-python",
   "name": "python",
   "nbconvert_exporter": "python",
   "pygments_lexer": "ipython3",
   "version": "3.8.10"
  }
 },
 "nbformat": 4,
 "nbformat_minor": 5
}
