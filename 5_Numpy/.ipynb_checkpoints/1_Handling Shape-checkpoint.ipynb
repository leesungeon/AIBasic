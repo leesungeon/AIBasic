{
 "cells": [
  {
   "cell_type": "code",
   "execution_count": 1,
   "id": "f25e85e0",
   "metadata": {},
   "outputs": [],
   "source": [
    "import numpy as np"
   ]
  },
  {
   "cell_type": "markdown",
   "id": "4acf3052",
   "metadata": {},
   "source": [
    "# 1. reshape"
   ]
  },
  {
   "cell_type": "code",
   "execution_count": 2,
   "id": "ecf7b2cf",
   "metadata": {},
   "outputs": [
    {
     "data": {
      "text/plain": [
       "(2, 4)"
      ]
     },
     "execution_count": 2,
     "metadata": {},
     "output_type": "execute_result"
    }
   ],
   "source": [
    "test_matrix = [[1,2,3,4],[5,6,7,8]]\n",
    "np.array(test_matrix).shape"
   ]
  },
  {
   "cell_type": "code",
   "execution_count": 3,
   "id": "cbb81df0",
   "metadata": {},
   "outputs": [
    {
     "data": {
      "text/plain": [
       "array([[[1, 2],\n",
       "        [3, 4]],\n",
       "\n",
       "       [[5, 6],\n",
       "        [7, 8]]])"
      ]
     },
     "execution_count": 3,
     "metadata": {},
     "output_type": "execute_result"
    }
   ],
   "source": [
    "np.array(test_matrix).reshape(2,2,2)"
   ]
  },
  {
   "cell_type": "code",
   "execution_count": 7,
   "id": "d9ea7159",
   "metadata": {},
   "outputs": [
    {
     "data": {
      "text/plain": [
       "array([1, 2, 3, 4, 5, 6, 7, 8])"
      ]
     },
     "execution_count": 7,
     "metadata": {},
     "output_type": "execute_result"
    }
   ],
   "source": [
    "test = np.array(test_matrix).reshape(8,)\n",
    "test"
   ]
  },
  {
   "cell_type": "code",
   "execution_count": 8,
   "id": "98dcdf3a",
   "metadata": {},
   "outputs": [
    {
     "data": {
      "text/plain": [
       "array([[1, 2],\n",
       "       [3, 4],\n",
       "       [5, 6],\n",
       "       [7, 8]])"
      ]
     },
     "execution_count": 8,
     "metadata": {},
     "output_type": "execute_result"
    }
   ],
   "source": [
    "test.reshape(-1,2)"
   ]
  },
  {
   "cell_type": "markdown",
   "id": "658f5c24",
   "metadata": {},
   "source": [
    "# 2. flatten"
   ]
  },
  {
   "cell_type": "code",
   "execution_count": 10,
   "id": "d98679a8",
   "metadata": {},
   "outputs": [
    {
     "data": {
      "text/plain": [
       "array([1, 2, 3, 4, 1, 2, 5, 8, 1, 2, 5, 8, 1, 2, 3, 4, 1, 2, 5, 8, 1, 2,\n",
       "       5, 8, 1, 2, 3, 4, 1, 2, 5, 8, 1, 2, 5, 8, 1, 2, 3, 4, 1, 2, 5, 8,\n",
       "       1, 2, 5, 8])"
      ]
     },
     "execution_count": 10,
     "metadata": {},
     "output_type": "execute_result"
    }
   ],
   "source": [
    "test_matrix_2 = [[[1,2,3,4], [1,2,5,8], [1,2,5,8]],[[1,2,3,4], [1,2,5,8], [1,2,5,8]],[[1,2,3,4], [1,2,5,8], [1,2,5,8]],[[1,2,3,4], [1,2,5,8], [1,2,5,8]]]\n",
    "np.array(test_matrix_2).flatten()"
   ]
  },
  {
   "cell_type": "markdown",
   "id": "0198891a",
   "metadata": {},
   "source": [
    "# 3.Indexing & Slicing"
   ]
  },
  {
   "cell_type": "markdown",
   "id": "dec3b5c6",
   "metadata": {},
   "source": [
    "* Indexing"
   ]
  },
  {
   "cell_type": "code",
   "execution_count": 13,
   "id": "e331f1b2",
   "metadata": {},
   "outputs": [
    {
     "name": "stdout",
     "output_type": "stream",
     "text": [
      "[[1 2 3]\n",
      " [4 5 6]]\n",
      "3\n",
      "2\n"
     ]
    }
   ],
   "source": [
    "a = np.array([[1,2,3], [4,5,6]], int)\n",
    "print(a)\n",
    "print(a[0,2])\n",
    "print(a[0][1])"
   ]
  },
  {
   "cell_type": "markdown",
   "id": "34f771c9",
   "metadata": {},
   "source": [
    "* Slicing"
   ]
  },
  {
   "cell_type": "code",
   "execution_count": 15,
   "id": "498a756c",
   "metadata": {},
   "outputs": [
    {
     "data": {
      "text/plain": [
       "array([[ 3,  4,  5],\n",
       "       [ 8,  9, 10]])"
      ]
     },
     "execution_count": 15,
     "metadata": {},
     "output_type": "execute_result"
    }
   ],
   "source": [
    "b = np.array([[1,2,3,4,5],[6,7,8,9,10]], int)\n",
    "b[:, 2:]"
   ]
  },
  {
   "cell_type": "code",
   "execution_count": 16,
   "id": "b1312e2c",
   "metadata": {},
   "outputs": [
    {
     "data": {
      "text/plain": [
       "array([7, 8])"
      ]
     },
     "execution_count": 16,
     "metadata": {},
     "output_type": "execute_result"
    }
   ],
   "source": [
    "b[1, 1:3]"
   ]
  },
  {
   "cell_type": "code",
   "execution_count": 17,
   "id": "efb3ce16",
   "metadata": {},
   "outputs": [
    {
     "data": {
      "text/plain": [
       "array([[ 6,  7,  8,  9, 10]])"
      ]
     },
     "execution_count": 17,
     "metadata": {},
     "output_type": "execute_result"
    }
   ],
   "source": [
    "b[1:3]"
   ]
  }
 ],
 "metadata": {
  "kernelspec": {
   "display_name": "Python 3",
   "language": "python",
   "name": "python3"
  },
  "language_info": {
   "codemirror_mode": {
    "name": "ipython",
    "version": 3
   },
   "file_extension": ".py",
   "mimetype": "text/x-python",
   "name": "python",
   "nbconvert_exporter": "python",
   "pygments_lexer": "ipython3",
   "version": "3.8.8"
  }
 },
 "nbformat": 4,
 "nbformat_minor": 5
}
