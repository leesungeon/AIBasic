{
 "cells": [
  {
   "cell_type": "markdown",
   "id": "dd692ac0",
   "metadata": {},
   "source": [
    "# arange"
   ]
  },
  {
   "cell_type": "code",
   "execution_count": 1,
   "id": "909434b0",
   "metadata": {},
   "outputs": [],
   "source": [
    "import numpy as np"
   ]
  },
  {
   "cell_type": "code",
   "execution_count": 2,
   "id": "9de82e98",
   "metadata": {},
   "outputs": [
    {
     "data": {
      "text/plain": [
       "array([ 0,  1,  2,  3,  4,  5,  6,  7,  8,  9, 10, 11, 12, 13, 14, 15, 16,\n",
       "       17, 18, 19, 20, 21, 22, 23, 24, 25, 26, 27, 28, 29])"
      ]
     },
     "execution_count": 2,
     "metadata": {},
     "output_type": "execute_result"
    }
   ],
   "source": [
    "np.arange(30)"
   ]
  },
  {
   "cell_type": "code",
   "execution_count": 3,
   "id": "7f3d5378",
   "metadata": {},
   "outputs": [
    {
     "data": {
      "text/plain": [
       "array([0. , 0.5, 1. , 1.5, 2. , 2.5, 3. , 3.5, 4. , 4.5])"
      ]
     },
     "execution_count": 3,
     "metadata": {},
     "output_type": "execute_result"
    }
   ],
   "source": [
    "np.arange(0, 5, 0.5)"
   ]
  },
  {
   "cell_type": "code",
   "execution_count": 4,
   "id": "1abe7dd4",
   "metadata": {},
   "outputs": [
    {
     "data": {
      "text/plain": [
       "array([[ 0,  1,  2,  3,  4],\n",
       "       [ 5,  6,  7,  8,  9],\n",
       "       [10, 11, 12, 13, 14],\n",
       "       [15, 16, 17, 18, 19],\n",
       "       [20, 21, 22, 23, 24],\n",
       "       [25, 26, 27, 28, 29]])"
      ]
     },
     "execution_count": 4,
     "metadata": {},
     "output_type": "execute_result"
    }
   ],
   "source": [
    "np.arange(30).reshape(-1,5)"
   ]
  },
  {
   "cell_type": "code",
   "execution_count": 6,
   "id": "6e1682e9",
   "metadata": {},
   "outputs": [
    {
     "data": {
      "text/plain": [
       "array([[ 0,  1,  2,  3,  4,  5],\n",
       "       [ 6,  7,  8,  9, 10, 11],\n",
       "       [12, 13, 14, 15, 16, 17],\n",
       "       [18, 19, 20, 21, 22, 23],\n",
       "       [24, 25, 26, 27, 28, 29]])"
      ]
     },
     "execution_count": 6,
     "metadata": {},
     "output_type": "execute_result"
    }
   ],
   "source": [
    "np.arange(30).reshape(5,6)"
   ]
  },
  {
   "cell_type": "markdown",
   "id": "95f08626",
   "metadata": {},
   "source": [
    "# ones, zeros and empty"
   ]
  },
  {
   "cell_type": "code",
   "execution_count": 9,
   "id": "6f527613",
   "metadata": {},
   "outputs": [
    {
     "data": {
      "text/plain": [
       "array([0, 0, 0, 0, 0, 0, 0, 0, 0, 0], dtype=int8)"
      ]
     },
     "execution_count": 9,
     "metadata": {},
     "output_type": "execute_result"
    }
   ],
   "source": [
    "np.zeros(shape=(10,), dtype=np.int8)"
   ]
  },
  {
   "cell_type": "code",
   "execution_count": 11,
   "id": "8adf2726",
   "metadata": {},
   "outputs": [
    {
     "data": {
      "text/plain": [
       "array([[0., 0., 0., 0., 0.],\n",
       "       [0., 0., 0., 0., 0.]])"
      ]
     },
     "execution_count": 11,
     "metadata": {},
     "output_type": "execute_result"
    }
   ],
   "source": [
    "np.zeros((2,5))"
   ]
  },
  {
   "cell_type": "code",
   "execution_count": 12,
   "id": "56ab7632",
   "metadata": {},
   "outputs": [
    {
     "data": {
      "text/plain": [
       "array([[1., 1., 1.],\n",
       "       [1., 1., 1.]])"
      ]
     },
     "execution_count": 12,
     "metadata": {},
     "output_type": "execute_result"
    }
   ],
   "source": [
    "np.ones((2,3))"
   ]
  },
  {
   "cell_type": "code",
   "execution_count": 13,
   "id": "a821bfa3",
   "metadata": {},
   "outputs": [
    {
     "data": {
      "text/plain": [
       "array([0, 0, 0, 0, 0, 0, 0, 0, 0, 0], dtype=int8)"
      ]
     },
     "execution_count": 13,
     "metadata": {},
     "output_type": "execute_result"
    }
   ],
   "source": [
    "np.empty(shape=(10,), dtype=np.int8)"
   ]
  },
  {
   "cell_type": "markdown",
   "id": "ea06f8e1",
   "metadata": {},
   "source": [
    "# something_like"
   ]
  },
  {
   "cell_type": "code",
   "execution_count": 14,
   "id": "2202129a",
   "metadata": {},
   "outputs": [
    {
     "data": {
      "text/plain": [
       "array([[1, 1, 1, 1, 1, 1],\n",
       "       [1, 1, 1, 1, 1, 1],\n",
       "       [1, 1, 1, 1, 1, 1],\n",
       "       [1, 1, 1, 1, 1, 1],\n",
       "       [1, 1, 1, 1, 1, 1]])"
      ]
     },
     "execution_count": 14,
     "metadata": {},
     "output_type": "execute_result"
    }
   ],
   "source": [
    "test_matrix = np.arange(30).reshape(5,6)\n",
    "np.ones_like(test_matrix)"
   ]
  },
  {
   "cell_type": "markdown",
   "id": "2892e8e6",
   "metadata": {},
   "source": [
    "# 단위행렬 identity"
   ]
  },
  {
   "cell_type": "code",
   "execution_count": 15,
   "id": "b5df484a",
   "metadata": {},
   "outputs": [
    {
     "data": {
      "text/plain": [
       "array([[1, 0, 0],\n",
       "       [0, 1, 0],\n",
       "       [0, 0, 1]], dtype=int8)"
      ]
     },
     "execution_count": 15,
     "metadata": {},
     "output_type": "execute_result"
    }
   ],
   "source": [
    "np.identity(n=3, dtype=np.int8)"
   ]
  },
  {
   "cell_type": "code",
   "execution_count": 16,
   "id": "e2a964d9",
   "metadata": {},
   "outputs": [
    {
     "data": {
      "text/plain": [
       "array([[1., 0., 0., 0., 0.],\n",
       "       [0., 1., 0., 0., 0.],\n",
       "       [0., 0., 1., 0., 0.],\n",
       "       [0., 0., 0., 1., 0.],\n",
       "       [0., 0., 0., 0., 1.]])"
      ]
     },
     "execution_count": 16,
     "metadata": {},
     "output_type": "execute_result"
    }
   ],
   "source": [
    "np.identity(5)"
   ]
  },
  {
   "cell_type": "markdown",
   "id": "ed22e64d",
   "metadata": {},
   "source": [
    "# eye"
   ]
  },
  {
   "cell_type": "code",
   "execution_count": 17,
   "id": "bf042ee7",
   "metadata": {},
   "outputs": [
    {
     "data": {
      "text/plain": [
       "array([[1, 0, 0, 0, 0],\n",
       "       [0, 1, 0, 0, 0],\n",
       "       [0, 0, 1, 0, 0]], dtype=int8)"
      ]
     },
     "execution_count": 17,
     "metadata": {},
     "output_type": "execute_result"
    }
   ],
   "source": [
    "np.eye(N=3, M=5, dtype=np.int8)"
   ]
  },
  {
   "cell_type": "code",
   "execution_count": 18,
   "id": "6d1721f1",
   "metadata": {},
   "outputs": [
    {
     "data": {
      "text/plain": [
       "array([[1., 0., 0.],\n",
       "       [0., 1., 0.],\n",
       "       [0., 0., 1.]])"
      ]
     },
     "execution_count": 18,
     "metadata": {},
     "output_type": "execute_result"
    }
   ],
   "source": [
    "np.eye(3)"
   ]
  },
  {
   "cell_type": "code",
   "execution_count": 19,
   "id": "81df6d22",
   "metadata": {},
   "outputs": [
    {
     "data": {
      "text/plain": [
       "array([[0., 0., 1., 0., 0.],\n",
       "       [0., 0., 0., 1., 0.],\n",
       "       [0., 0., 0., 0., 1.]])"
      ]
     },
     "execution_count": 19,
     "metadata": {},
     "output_type": "execute_result"
    }
   ],
   "source": [
    "np.eye(3, 5, k=2)"
   ]
  },
  {
   "cell_type": "markdown",
   "id": "01a21460",
   "metadata": {},
   "source": [
    "# diag"
   ]
  },
  {
   "cell_type": "code",
   "execution_count": 20,
   "id": "b3fb7b42",
   "metadata": {},
   "outputs": [
    {
     "data": {
      "text/plain": [
       "array([0, 4, 8])"
      ]
     },
     "execution_count": 20,
     "metadata": {},
     "output_type": "execute_result"
    }
   ],
   "source": [
    "matrix = np.arange(9).reshape(3,3)\n",
    "np.diag(matrix)"
   ]
  },
  {
   "cell_type": "code",
   "execution_count": 21,
   "id": "a93a39ba",
   "metadata": {},
   "outputs": [
    {
     "data": {
      "text/plain": [
       "array([1, 5])"
      ]
     },
     "execution_count": 21,
     "metadata": {},
     "output_type": "execute_result"
    }
   ],
   "source": [
    "np.diag(matrix, k=1)"
   ]
  },
  {
   "cell_type": "markdown",
   "id": "531cfa78",
   "metadata": {},
   "source": [
    "# random sampling"
   ]
  },
  {
   "cell_type": "markdown",
   "id": "8822a347",
   "metadata": {},
   "source": [
    "* 균등분포"
   ]
  },
  {
   "cell_type": "code",
   "execution_count": 22,
   "id": "b32f4a6f",
   "metadata": {
    "scrolled": true
   },
   "outputs": [
    {
     "data": {
      "text/plain": [
       "array([[0.1879167 , 0.90837747, 0.3329735 , 0.00514479, 0.54077441],\n",
       "       [0.56125772, 0.7794359 , 0.93332588, 0.02575821, 0.96720063]])"
      ]
     },
     "execution_count": 22,
     "metadata": {},
     "output_type": "execute_result"
    }
   ],
   "source": [
    "np.random.uniform(0,1,10).reshape(2,5)"
   ]
  },
  {
   "cell_type": "markdown",
   "id": "d0ddf567",
   "metadata": {},
   "source": [
    "* 정규분포"
   ]
  },
  {
   "cell_type": "code",
   "execution_count": 23,
   "id": "c78422a1",
   "metadata": {},
   "outputs": [
    {
     "data": {
      "text/plain": [
       "array([[-0.48635909, -0.19742564, -1.97978292,  0.87241184, -0.39088736],\n",
       "       [-1.12070952,  0.83967694, -0.88908967,  0.4277276 , -2.04379023]])"
      ]
     },
     "execution_count": 23,
     "metadata": {},
     "output_type": "execute_result"
    }
   ],
   "source": [
    "np.random.normal(0,1,10).reshape(2,5)"
   ]
  }
 ],
 "metadata": {
  "kernelspec": {
   "display_name": "Python 3",
   "language": "python",
   "name": "python3"
  },
  "language_info": {
   "codemirror_mode": {
    "name": "ipython",
    "version": 3
   },
   "file_extension": ".py",
   "mimetype": "text/x-python",
   "name": "python",
   "nbconvert_exporter": "python",
   "pygments_lexer": "ipython3",
   "version": "3.8.8"
  }
 },
 "nbformat": 4,
 "nbformat_minor": 5
}
