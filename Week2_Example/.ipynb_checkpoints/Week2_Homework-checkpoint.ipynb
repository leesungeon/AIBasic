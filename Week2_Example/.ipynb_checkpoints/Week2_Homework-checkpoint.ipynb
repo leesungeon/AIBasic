{
 "cells": [
  {
   "cell_type": "code",
   "execution_count": 1,
   "id": "a885df9e",
   "metadata": {},
   "outputs": [
    {
     "name": "stdout",
     "output_type": "stream",
     "text": [
      "62.5\n"
     ]
    }
   ],
   "source": [
    "class Score(object):\n",
    "    def __init__(self, mid : int, final : int):\n",
    "        self.__mid = mid\n",
    "        self.__final = final\n",
    "    \n",
    "    @property\n",
    "    def mid(self):\n",
    "        return self.__mid\n",
    "\n",
    "    @property\n",
    "    def final(self):\n",
    "        return self.__final\n",
    "\n",
    "score = Score(50, 75)\n",
    "print((score.mid + score.final) / 2)"
   ]
  },
  {
   "cell_type": "code",
   "execution_count": 2,
   "id": "34b590b8",
   "metadata": {},
   "outputs": [
    {
     "name": "stdout",
     "output_type": "stream",
     "text": [
      "gas 2 small\n"
     ]
    }
   ],
   "source": [
    "class Car():\n",
    "    def __init__(self, fuel, wheels):\n",
    "        self.fuel = fuel\n",
    "        self.wheels = wheels\n",
    "\n",
    "class Bike(Car):\n",
    "    def __init__(self, fuel, wheels, size):\n",
    "        super().__init__(fuel, wheels)\n",
    "        self.size = size\n",
    "\n",
    "bike = Bike(\"gas\", 2, \"small\")\n",
    "print(bike.fuel, bike.wheels, bike.size)"
   ]
  },
  {
   "cell_type": "code",
   "execution_count": 3,
   "id": "f2962590",
   "metadata": {},
   "outputs": [
    {
     "name": "stdout",
     "output_type": "stream",
     "text": [
      "[['73', '80', '75', '152'], ['93', '88', '93', '185'], ['89', '91', '90', '180'], ['96', '98', '100', '196'], ['73', '66', '70', '142'], ['53', '46', '55', '101'], ['69', '74', '77', '149'], ['47', '56', '60', '115'], ['87', '79', '90', '175'], ['79', '70', '88', '164'], ['69', '70', '73', '141'], ['70', '65', '74', '141'], ['93', '95', '91', '184'], ['79', '80', '73', '152'], ['70', '73', '78', '148'], ['93', '89', '96', '192'], ['78', '75', '68', '147'], ['81', '90', '93', '183'], ['88', '92', '86', '177'], ['78', '83', '77', '159'], ['82', '86', '90', '177'], ['86', '82', '89', '175'], ['78', '83', '85', '175'], ['76', '83', '71', '149'], ['96', '93', '95', '192']]\n"
     ]
    }
   ],
   "source": [
    "import csv\n",
    "\n",
    "filepath = \"./data-01-test-score.csv\"\n",
    "\n",
    "class ReadCSV(object):\n",
    "    def __init__(self, file_path, data = []):\n",
    "        self.file_path = file_path\n",
    "        self.data = data\n",
    "\n",
    "    def read_file(self):\n",
    "        f = open(self.file_path, \"r\")\n",
    "        rdr = csv.reader(f)\n",
    "        for line in rdr:\n",
    "            self.data.append(line)\n",
    "        f.close()\n",
    "        return self.data\n",
    "\n",
    "read_csv = ReadCSV(filepath)\n",
    "print(read_csv.read_file())"
   ]
  },
  {
   "cell_type": "code",
   "execution_count": 4,
   "id": "0d8ddbe1",
   "metadata": {},
   "outputs": [
    {
     "name": "stdout",
     "output_type": "stream",
     "text": [
      "[[73, 80, 75, 152], [93, 88, 93, 185], [89, 91, 90, 180], [96, 98, 100, 196], [73, 66, 70, 142], [53, 46, 55, 101], [69, 74, 77, 149], [47, 56, 60, 115], [87, 79, 90, 175], [79, 70, 88, 164], [69, 70, 73, 141], [70, 65, 74, 141], [93, 95, 91, 184], [79, 80, 73, 152], [70, 73, 78, 148], [93, 89, 96, 192], [78, 75, 68, 147], [81, 90, 93, 183], [88, 92, 86, 177], [78, 83, 77, 159], [82, 86, 90, 177], [86, 82, 89, 175], [78, 83, 85, 175], [76, 83, 71, 149], [96, 93, 95, 192]]\n",
      "[380, 459, 450, 490, 351, 255, 369, 278, 431, 401, 353, 350, 463, 384, 369, 470, 368, 447, 443, 397, 435, 432, 421, 379, 476]\n"
     ]
    }
   ],
   "source": [
    "import csv\n",
    "\n",
    "filepath = \"./data-01-test-score.csv\"\n",
    "\n",
    "class ReadCSV(object):\n",
    "    def __init__(self, file_path):\n",
    "        self.file_path = file_path\n",
    "\n",
    "    def read_file(self):\n",
    "        data = []\n",
    "        row_list = []\n",
    "\n",
    "        f = open(self.file_path, \"r\")\n",
    "        rdr = csv.reader(f)\n",
    "        for line in rdr:\n",
    "            for val in line:\n",
    "                row_list.append(int(val))\n",
    "            data.append(row_list)\n",
    "            row_list = []\n",
    "        f.close()\n",
    "\n",
    "        return data\n",
    "    \n",
    "    def merge_list(self):\n",
    "        merge_list = []\n",
    "        data = self.read_file()\n",
    "        for dt in data:\n",
    "            merge_list.append(sum(dt))\n",
    "        \n",
    "        return merge_list\n",
    "\n",
    "read_csv = ReadCSV(filepath)\n",
    "print(read_csv.read_file())\n",
    "print(read_csv.merge_list())"
   ]
  },
  {
   "cell_type": "code",
   "execution_count": 5,
   "id": "98fbe0ed",
   "metadata": {},
   "outputs": [
    {
     "name": "stdout",
     "output_type": "stream",
     "text": [
      "[63.75, 69.5, 87.5, 87.75, 88.25, 92.0, 92.25, 92.25, 94.75, 95.0, 96.0, 99.25, 100.25, 105.25, 107.75, 108.0, 108.75, 110.75, 111.75, 112.5, 114.75, 115.75, 117.5, 119.0, 122.5]\n"
     ]
    }
   ],
   "source": [
    "import csv\n",
    "\n",
    "filepath = \"./data-01-test-score.csv\"\n",
    "\n",
    "class ReadCSV(object):\n",
    "    def __init__(self, file_path):\n",
    "        self.file_path = file_path\n",
    "\n",
    "    def read_file(self):\n",
    "        data = []\n",
    "        row_list = []\n",
    "\n",
    "        f = open(self.file_path, \"r\")\n",
    "        rdr = csv.reader(f)\n",
    "        for line in rdr:\n",
    "            for val in line:\n",
    "                row_list.append(int(val))\n",
    "            data.append(row_list)\n",
    "            row_list = []\n",
    "        f.close()\n",
    "\n",
    "        return data\n",
    "    \n",
    "    def merge_list(self):\n",
    "        merge_list = []\n",
    "        data = self.read_file()\n",
    "        for dt in data:\n",
    "            merge_list.append(sum(dt) / len(dt))\n",
    "        merge_list.sort()\n",
    "\n",
    "        return merge_list\n",
    "\n",
    "read_csv = ReadCSV(filepath)\n",
    "print(read_csv.merge_list())"
   ]
  }
 ],
 "metadata": {
  "kernelspec": {
   "display_name": "Python 3 (ipykernel)",
   "language": "python",
   "name": "python3"
  },
  "language_info": {
   "codemirror_mode": {
    "name": "ipython",
    "version": 3
   },
   "file_extension": ".py",
   "mimetype": "text/x-python",
   "name": "python",
   "nbconvert_exporter": "python",
   "pygments_lexer": "ipython3",
   "version": "3.8.10"
  }
 },
 "nbformat": 4,
 "nbformat_minor": 5
}
