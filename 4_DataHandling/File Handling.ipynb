{
 "cells": [
  {
   "cell_type": "markdown",
   "id": "dc4e1f8f",
   "metadata": {},
   "source": [
    "# File Open"
   ]
  },
  {
   "cell_type": "code",
   "execution_count": 1,
   "id": "cf24c378",
   "metadata": {},
   "outputs": [
    {
     "name": "stdout",
     "output_type": "stream",
     "text": [
      "I Have a Dream, a song to sing\n",
      "To help me cope, with anything\n",
      "If you see the wonder, of a fairy tale\n",
      "You can take the future, even if you fail\n",
      "I believe in angels\n",
      "Something good in everything I see\n",
      "I believe in angels\n",
      "When I know the time is right for me\n",
      "I'll cross the stream, I Have a Dream\n",
      "I Have a Dream, a fantasy\n",
      "To help me through, reality\n",
      "And my destination, makes it worth the while\n",
      "Pushin' through the darkness, still another mile\n",
      "I believe in angels\n",
      "Something good in everything I see\n",
      "I believe in angels\n",
      "When I know the time is right for me\n",
      "I'll cross the stream, I Have a Dream\n",
      "I'll cross the stream, I Have a Dream\n",
      "I Have a Dream, a song to sing\n",
      "To help me cope, with anything\n",
      "If you see the wonder, of a fairy tale\n",
      "You can take the future, even if you fail\n",
      "I believe in angels\n",
      "Something good in everything I see\n",
      "I believe in angels\n",
      "When I know the time is right for me\n",
      "I'll cross the stream, I Have a Dream\n",
      "I'll cross the stream, I Have a Dream\n"
     ]
    }
   ],
   "source": [
    "f = open(\"i_have_a_dream.txt\", \"r\")\n",
    "contents = f.read()\n",
    "print(contents)\n",
    "f.close()"
   ]
  },
  {
   "cell_type": "code",
   "execution_count": 2,
   "id": "01733277",
   "metadata": {},
   "outputs": [
    {
     "name": "stdout",
     "output_type": "stream",
     "text": [
      "<class 'str'> I Have a Dream, a song to sing\n",
      "To help me cope, with anything\n",
      "If you see the wonder, of a fairy tale\n",
      "You can take the future, even if you fail\n",
      "I believe in angels\n",
      "Something good in everything I see\n",
      "I believe in angels\n",
      "When I know the time is right for me\n",
      "I'll cross the stream, I Have a Dream\n",
      "I Have a Dream, a fantasy\n",
      "To help me through, reality\n",
      "And my destination, makes it worth the while\n",
      "Pushin' through the darkness, still another mile\n",
      "I believe in angels\n",
      "Something good in everything I see\n",
      "I believe in angels\n",
      "When I know the time is right for me\n",
      "I'll cross the stream, I Have a Dream\n",
      "I'll cross the stream, I Have a Dream\n",
      "I Have a Dream, a song to sing\n",
      "To help me cope, with anything\n",
      "If you see the wonder, of a fairy tale\n",
      "You can take the future, even if you fail\n",
      "I believe in angels\n",
      "Something good in everything I see\n",
      "I believe in angels\n",
      "When I know the time is right for me\n",
      "I'll cross the stream, I Have a Dream\n",
      "I'll cross the stream, I Have a Dream\n"
     ]
    }
   ],
   "source": [
    "with open(\"i_have_a_dream.txt\", \"r\") as f:\n",
    "    contents = f.read()\n",
    "    print(type(contents), contents)"
   ]
  },
  {
   "cell_type": "code",
   "execution_count": 3,
   "id": "4e4386a3",
   "metadata": {},
   "outputs": [
    {
     "name": "stdout",
     "output_type": "stream",
     "text": [
      "<class 'list'>\n",
      "['I Have a Dream, a song to sing\\n', 'To help me cope, with anything\\n', 'If you see the wonder, of a fairy tale\\n', 'You can take the future, even if you fail\\n', 'I believe in angels\\n', 'Something good in everything I see\\n', 'I believe in angels\\n', 'When I know the time is right for me\\n', \"I'll cross the stream, I Have a Dream\\n\", 'I Have a Dream, a fantasy\\n', 'To help me through, reality\\n', 'And my destination, makes it worth the while\\n', \"Pushin' through the darkness, still another mile\\n\", 'I believe in angels\\n', 'Something good in everything I see\\n', 'I believe in angels\\n', 'When I know the time is right for me\\n', \"I'll cross the stream, I Have a Dream\\n\", \"I'll cross the stream, I Have a Dream\\n\", 'I Have a Dream, a song to sing\\n', 'To help me cope, with anything\\n', 'If you see the wonder, of a fairy tale\\n', 'You can take the future, even if you fail\\n', 'I believe in angels\\n', 'Something good in everything I see\\n', 'I believe in angels\\n', 'When I know the time is right for me\\n', \"I'll cross the stream, I Have a Dream\\n\", \"I'll cross the stream, I Have a Dream\"]\n"
     ]
    }
   ],
   "source": [
    "with open(\"i_have_a_dream.txt\", \"r\") as f:\n",
    "    content_list = f.readlines()\n",
    "    print(type(content_list))\n",
    "    print(content_list)"
   ]
  },
  {
   "cell_type": "code",
   "execution_count": 4,
   "id": "3a2a4a84",
   "metadata": {},
   "outputs": [
    {
     "name": "stdout",
     "output_type": "stream",
     "text": [
      "0 === I Have a Dream, a song to sing\n",
      "1 === To help me cope, with anything\n",
      "2 === If you see the wonder, of a fairy tale\n",
      "3 === You can take the future, even if you fail\n",
      "4 === I believe in angels\n",
      "5 === Something good in everything I see\n",
      "6 === I believe in angels\n",
      "7 === When I know the time is right for me\n",
      "8 === I'll cross the stream, I Have a Dream\n",
      "9 === I Have a Dream, a fantasy\n",
      "10 === To help me through, reality\n",
      "11 === And my destination, makes it worth the while\n",
      "12 === Pushin' through the darkness, still another mile\n",
      "13 === I believe in angels\n",
      "14 === Something good in everything I see\n",
      "15 === I believe in angels\n",
      "16 === When I know the time is right for me\n",
      "17 === I'll cross the stream, I Have a Dream\n",
      "18 === I'll cross the stream, I Have a Dream\n",
      "19 === I Have a Dream, a song to sing\n",
      "20 === To help me cope, with anything\n",
      "21 === If you see the wonder, of a fairy tale\n",
      "22 === You can take the future, even if you fail\n",
      "23 === I believe in angels\n",
      "24 === Something good in everything I see\n",
      "25 === I believe in angels\n",
      "26 === When I know the time is right for me\n",
      "27 === I'll cross the stream, I Have a Dream\n",
      "28 === I'll cross the stream, I Have a Dream\n"
     ]
    }
   ],
   "source": [
    "with open(\"i_have_a_dream.txt\", \"r\") as f:\n",
    "    i = 0\n",
    "    while True:\n",
    "        line = f.readline()\n",
    "        if not line:\n",
    "            break\n",
    "        print(str(i) + \" === \" + line.replace(\"\\n\", \"\"))\n",
    "        i += 1"
   ]
  },
  {
   "cell_type": "code",
   "execution_count": 5,
   "id": "3f513c24",
   "metadata": {},
   "outputs": [
    {
     "name": "stdout",
     "output_type": "stream",
     "text": [
      "Total Number of Characters :  959\n",
      "Total Number of Words :  171\n",
      "Total Number of Lines :  29\n"
     ]
    }
   ],
   "source": [
    "with open(\"i_have_a_dream.txt\", \"r\") as f:\n",
    "    contents = f.read()\n",
    "    word_list = contents.split(\" \")\n",
    "    line_list = contents.split(\"\\n\")\n",
    "\n",
    "print(\"Total Number of Characters : \", len(contents))\n",
    "print(\"Total Number of Words : \", len(word_list))\n",
    "print(\"Total Number of Lines : \", len(line_list))"
   ]
  },
  {
   "cell_type": "markdown",
   "id": "50f99266",
   "metadata": {},
   "source": [
    "# File Write"
   ]
  },
  {
   "cell_type": "code",
   "execution_count": 6,
   "id": "1e663627",
   "metadata": {},
   "outputs": [],
   "source": [
    "f = open(\"count_log.txt\", \"w\", encoding=\"utf8\")\n",
    "for i in range(1, 11):\n",
    "    data = f\"{i}번째 줄입니다. \\n\"\n",
    "    f.write(data)\n",
    "f.close()"
   ]
  },
  {
   "cell_type": "code",
   "execution_count": 7,
   "id": "eaaccb63",
   "metadata": {},
   "outputs": [],
   "source": [
    "with open(\"count_log.txt\", \"a\", encoding=\"utf8\") as f:\n",
    "    for i in range(11, 21):\n",
    "        data = f\"{i}번째 줄입니다. \\n\"\n",
    "        f.write(data)"
   ]
  },
  {
   "cell_type": "markdown",
   "id": "b6222140",
   "metadata": {},
   "source": [
    "# OS module"
   ]
  },
  {
   "cell_type": "code",
   "execution_count": 8,
   "id": "02eb9b4c",
   "metadata": {},
   "outputs": [],
   "source": [
    "import os\n",
    "os.mkdir(\"sungeon\")"
   ]
  },
  {
   "cell_type": "code",
   "execution_count": 9,
   "id": "fec25d25",
   "metadata": {},
   "outputs": [
    {
     "name": "stdout",
     "output_type": "stream",
     "text": [
      "Already created\n"
     ]
    }
   ],
   "source": [
    "try:\n",
    "    os.mkdir(\"sungeon\")\n",
    "except FileExistsError as e:\n",
    "    print(\"Already created\")"
   ]
  },
  {
   "cell_type": "code",
   "execution_count": 12,
   "id": "845a562c",
   "metadata": {},
   "outputs": [
    {
     "data": {
      "text/plain": [
       "True"
      ]
     },
     "execution_count": 12,
     "metadata": {},
     "output_type": "execute_result"
    }
   ],
   "source": [
    "os.path.exists(\"sungeon\")"
   ]
  },
  {
   "cell_type": "code",
   "execution_count": 13,
   "id": "c372862f",
   "metadata": {},
   "outputs": [
    {
     "data": {
      "text/plain": [
       "False"
      ]
     },
     "execution_count": 13,
     "metadata": {},
     "output_type": "execute_result"
    }
   ],
   "source": [
    "os.path.exists(\"abc\")"
   ]
  },
  {
   "cell_type": "markdown",
   "id": "1ed63388",
   "metadata": {},
   "source": [
    "# Pickle"
   ]
  },
  {
   "cell_type": "code",
   "execution_count": 14,
   "id": "a9e3040e",
   "metadata": {},
   "outputs": [],
   "source": [
    "import pickle\n",
    "\n",
    "f = open(\"list.pickle\", \"wb\")\n",
    "test = [1, 2, 3, 4, 5]\n",
    "pickle.dump(test, f)\n",
    "f.close()"
   ]
  },
  {
   "cell_type": "code",
   "execution_count": 15,
   "id": "0639476f",
   "metadata": {},
   "outputs": [
    {
     "data": {
      "text/plain": [
       "[1, 2, 3, 4, 5]"
      ]
     },
     "execution_count": 15,
     "metadata": {},
     "output_type": "execute_result"
    }
   ],
   "source": [
    "test"
   ]
  },
  {
   "cell_type": "code",
   "execution_count": 16,
   "id": "6b61a86a",
   "metadata": {},
   "outputs": [],
   "source": [
    "del test"
   ]
  },
  {
   "cell_type": "code",
   "execution_count": 17,
   "id": "cf2cef90",
   "metadata": {},
   "outputs": [],
   "source": [
    "f = open(\"list.pickle\", \"rb\")\n",
    "test_pickle = pickle.load(f)\n",
    "test_pickle\n",
    "f.close()"
   ]
  },
  {
   "cell_type": "code",
   "execution_count": 19,
   "id": "abe1b933",
   "metadata": {},
   "outputs": [
    {
     "data": {
      "text/plain": [
       "[1, 2, 3, 4, 5]"
      ]
     },
     "execution_count": 19,
     "metadata": {},
     "output_type": "execute_result"
    }
   ],
   "source": [
    "#test\n",
    "test_pickle"
   ]
  },
  {
   "cell_type": "code",
   "execution_count": 24,
   "id": "1717235f",
   "metadata": {},
   "outputs": [],
   "source": [
    "class Multiply(object):\n",
    "    def __init__(self, multiplier):\n",
    "        self.multiplier = multiplier\n",
    "    \n",
    "    def multiply(self, number):\n",
    "        return number * self.multiplier"
   ]
  },
  {
   "cell_type": "code",
   "execution_count": 25,
   "id": "1441aafa",
   "metadata": {},
   "outputs": [
    {
     "data": {
      "text/plain": [
       "500"
      ]
     },
     "execution_count": 25,
     "metadata": {},
     "output_type": "execute_result"
    }
   ],
   "source": [
    "muliply = Multiply(5)\n",
    "muliply.multiply(100)"
   ]
  },
  {
   "cell_type": "code",
   "execution_count": 26,
   "id": "9d8e505e",
   "metadata": {},
   "outputs": [],
   "source": [
    "f = open(\"multiply_object.pickle\", \"wb\")\n",
    "pickle.dump(muliply, f)\n",
    "f.close()"
   ]
  },
  {
   "cell_type": "code",
   "execution_count": 27,
   "id": "4eb665d1",
   "metadata": {},
   "outputs": [],
   "source": [
    "del muliply"
   ]
  },
  {
   "cell_type": "code",
   "execution_count": 28,
   "id": "ccf29496",
   "metadata": {},
   "outputs": [
    {
     "ename": "NameError",
     "evalue": "name 'muliply' is not defined",
     "output_type": "error",
     "traceback": [
      "\u001b[1;31m---------------------------------------------------------------------------\u001b[0m",
      "\u001b[1;31mNameError\u001b[0m                                 Traceback (most recent call last)",
      "\u001b[1;32m~\\AppData\\Local\\Temp/ipykernel_16992/2493434173.py\u001b[0m in \u001b[0;36m<module>\u001b[1;34m\u001b[0m\n\u001b[1;32m----> 1\u001b[1;33m \u001b[0mmuliply\u001b[0m\u001b[1;33m\u001b[0m\u001b[1;33m\u001b[0m\u001b[0m\n\u001b[0m",
      "\u001b[1;31mNameError\u001b[0m: name 'muliply' is not defined"
     ]
    }
   ],
   "source": [
    "muliply"
   ]
  },
  {
   "cell_type": "code",
   "execution_count": 29,
   "id": "e2e9fa1f",
   "metadata": {},
   "outputs": [
    {
     "data": {
      "text/plain": [
       "500"
      ]
     },
     "execution_count": 29,
     "metadata": {},
     "output_type": "execute_result"
    }
   ],
   "source": [
    "f = open(\"multiply_object.pickle\", \"rb\")\n",
    "multiply_pickle = pickle.load(f)\n",
    "multiply_pickle.multiply(100)"
   ]
  }
 ],
 "metadata": {
  "kernelspec": {
   "display_name": "Python 3 (ipykernel)",
   "language": "python",
   "name": "python3"
  },
  "language_info": {
   "codemirror_mode": {
    "name": "ipython",
    "version": 3
   },
   "file_extension": ".py",
   "mimetype": "text/x-python",
   "name": "python",
   "nbconvert_exporter": "python",
   "pygments_lexer": "ipython3",
   "version": "3.8.10"
  }
 },
 "nbformat": 4,
 "nbformat_minor": 5
}
