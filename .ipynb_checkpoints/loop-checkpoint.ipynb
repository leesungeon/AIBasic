{
 "cells": [
  {
   "cell_type": "code",
   "execution_count": 3,
   "id": "d87f831b",
   "metadata": {},
   "outputs": [
    {
     "name": "stdout",
     "output_type": "stream",
     "text": [
      "1, Hello\n",
      "2, Hello\n",
      "3, Hello\n",
      "4, Hello\n",
      "5, Hello\n"
     ]
    }
   ],
   "source": [
    "for looper in [1, 2, 3, 4, 5]:\n",
    "    print(f\"{looper} : Hello\")"
   ]
  },
  {
   "cell_type": "code",
   "execution_count": 4,
   "id": "68b83ee1",
   "metadata": {},
   "outputs": [
    {
     "name": "stdout",
     "output_type": "stream",
     "text": [
      "0, Hello\n",
      "1, Hello\n",
      "2, Hello\n",
      "3, Hello\n",
      "4, Hello\n"
     ]
    }
   ],
   "source": [
    "for looper in range(0,5):\n",
    "    print(f\"{looper} : Hello\")"
   ]
  }
 ],
 "metadata": {
  "kernelspec": {
   "display_name": "Python 3 (ipykernel)",
   "language": "python",
   "name": "python3"
  },
  "language_info": {
   "codemirror_mode": {
    "name": "ipython",
    "version": 3
   },
   "file_extension": ".py",
   "mimetype": "text/x-python",
   "name": "python",
   "nbconvert_exporter": "python",
   "pygments_lexer": "ipython3",
   "version": "3.8.10"
  }
 },
 "nbformat": 4,
 "nbformat_minor": 5
}
