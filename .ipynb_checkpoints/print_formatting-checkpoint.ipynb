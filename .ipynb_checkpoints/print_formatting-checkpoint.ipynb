{
 "cells": [
  {
   "cell_type": "code",
   "execution_count": 5,
   "id": "4d97f5fd",
   "metadata": {},
   "outputs": [
    {
     "name": "stdout",
     "output_type": "stream",
     "text": [
      "1 2 3\n",
      "a b c\n",
      "1 2 3\n",
      "a b c\n",
      "value is 6\n"
     ]
    }
   ],
   "source": [
    "print(1,2,3)\n",
    "print(\"a\" + \" \" + \"b\" + \" \" + \"c\")\n",
    "print(\"%d %d %d\" % (1,2,3))\n",
    "print(\"{} {} {}\".format(\"a\", \"b\", \"c\"))\n",
    "\n",
    "value = 6\n",
    "print(f\"value is {value}\")"
   ]
  },
  {
   "cell_type": "code",
   "execution_count": 6,
   "id": "b2feffc4",
   "metadata": {},
   "outputs": [
    {
     "name": "stdout",
     "output_type": "stream",
     "text": [
      "one two\n",
      "one two\n",
      "1 2\n",
      "1 2\n"
     ]
    }
   ],
   "source": [
    "print('%s %s' % ('one', 'two'))\n",
    "print('{} {}'.format('one', 'two'))\n",
    "print('%d %d' % (1, 2))\n",
    "print('{} {}'.format(1, 2))"
   ]
  },
  {
   "cell_type": "code",
   "execution_count": 9,
   "id": "29860fec",
   "metadata": {},
   "outputs": [
    {
     "name": "stdout",
     "output_type": "stream",
     "text": [
      "I eat 3 apples.\n",
      "I eat five apples.\n",
      "I ate 3 apples. I was sick for three days.\n",
      "Product: Apple, Price per unit : 5.243000.\n"
     ]
    }
   ],
   "source": [
    "print(\"I eat %d apples.\" % 3)\n",
    "print(\"I eat %s apples.\" % \"five\")\n",
    "number = 3; day = \"three\"\n",
    "print(\"I ate %d apples. I was sick for %s days.\" % (number, day))\n",
    "print(\"Product: %s, Price per unit : %f.\" % (\"Apple\", 5.243))"
   ]
  },
  {
   "cell_type": "code",
   "execution_count": 13,
   "id": "71a4002f",
   "metadata": {},
   "outputs": [
    {
     "name": "stdout",
     "output_type": "stream",
     "text": [
      "Product: Apple, Price per unit : 5.24300.\n",
      "Product: Apple, Price per unit : 5.24300.\n",
      "Product:      Apple, Price per unit :      5.243.\n",
      "Product:      Apple, Price per unit :      5.243.\n"
     ]
    }
   ],
   "source": [
    "print(\"Product: %5s, Price per unit : %.5f.\" % (\"Apple\", 5.243))\n",
    "print(\"Product: {0:5s}, Price per unit : {1:.5f}.\" .format(\"Apple\", 5.243))\n",
    "print(\"Product: %10s, Price per unit : %10.3f.\" % (\"Apple\", 5.243))\n",
    "print(\"Product: {0:>10s}, Price per unit : {1:10.3f}.\" .format(\"Apple\", 5.243))"
   ]
  },
  {
   "cell_type": "code",
   "execution_count": 14,
   "id": "f9f84057",
   "metadata": {},
   "outputs": [],
   "source": [
    "name = \"Sungeon\"\n",
    "age = 39"
   ]
  },
  {
   "cell_type": "code",
   "execution_count": 17,
   "id": "7ead5767",
   "metadata": {},
   "outputs": [
    {
     "name": "stdout",
     "output_type": "stream",
     "text": [
      "Hello, Sungeon. You are 39.\n",
      "Sungeon             \n",
      "             Sungeon\n",
      "Sungeon*************\n",
      "*************Sungeon\n",
      "******Sungeon*******\n",
      "3.14\n"
     ]
    }
   ],
   "source": [
    "print(f\"Hello, {name}. You are {age}.\")\n",
    "print(f\"{name:20}\")\n",
    "print(f\"{name:>20}\")\n",
    "print(f\"{name:*<20}\")\n",
    "print(f\"{name:*>20}\")\n",
    "print(f\"{name:*^20}\")\n",
    "\n",
    "number = 3.141592653589793\n",
    "print(f'{number:10.2f}')"
   ]
  }
 ],
 "metadata": {
  "kernelspec": {
   "display_name": "Python 3 (ipykernel)",
   "language": "python",
   "name": "python3"
  },
  "language_info": {
   "codemirror_mode": {
    "name": "ipython",
    "version": 3
   },
   "file_extension": ".py",
   "mimetype": "text/x-python",
   "name": "python",
   "nbconvert_exporter": "python",
   "pygments_lexer": "ipython3",
   "version": "3.8.10"
  }
 },
 "nbformat": 4,
 "nbformat_minor": 5
}
