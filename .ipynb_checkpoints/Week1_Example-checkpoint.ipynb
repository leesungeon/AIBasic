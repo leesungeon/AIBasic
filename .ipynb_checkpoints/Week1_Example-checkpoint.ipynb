{
 "cells": [
  {
   "cell_type": "code",
   "execution_count": 1,
   "id": "a13b2e83",
   "metadata": {},
   "outputs": [
    {
     "name": "stdout",
     "output_type": "stream",
     "text": [
      "[1, 5, 7, 15, 29]\n"
     ]
    }
   ],
   "source": [
    "def get_odd_num(numList):\n",
    "    arr = []\n",
    "    for number in numList:\n",
    "        if number % 2 == 1 :\n",
    "            arr.append(number)\n",
    "    return arr\n",
    "\n",
    "num_list = [1, 5, 7, 15, 16, 22, 28, 29]\n",
    "\n",
    "print(get_odd_num(num_list))"
   ]
  },
  {
   "cell_type": "code",
   "execution_count": 2,
   "id": "47764727",
   "metadata": {},
   "outputs": [
    {
     "name": "stdout",
     "output_type": "stream",
     "text": [
      "Where there is a will there is a way \n"
     ]
    }
   ],
   "source": [
    "sentence = \"way a is there will a is there where\"\n",
    "\n",
    "def reverse_setence(stc):\n",
    "    stc_arr = stc.split(\" \")\n",
    "    comment = \"\"\n",
    "    for word in stc_arr:\n",
    "        comment = word + \" \" + comment\n",
    "    return comment.capitalize()\n",
    "\n",
    "print(reverse_setence(sentence))"
   ]
  },
  {
   "cell_type": "code",
   "execution_count": 4,
   "id": "ddc95508",
   "metadata": {},
   "outputs": [
    {
     "name": "stdout",
     "output_type": "stream",
     "text": [
      "1번, 평균 : 100.0\n",
      "2번, 평균 : 92.5\n",
      "3번, 평균 : 57.5\n",
      "4번, 평균 : 77.5\n",
      "5번, 평균 : 70.0\n"
     ]
    }
   ],
   "source": [
    "score = [(100, 100), (95, 90), (55, 60), (75, 80), (70, 70)]\n",
    "student_score = [0, 0]\n",
    "\n",
    "def get_score(scores):\n",
    "    for student_score in scores:\n",
    "        i = 0\n",
    "        for subject in student_score:\n",
    "            i += subject\n",
    "        print(f\"{scores.index(student_score) + 1}번, 평균 : {i / 2}\")\n",
    "\n",
    "get_score(score)"
   ]
  },
  {
   "cell_type": "code",
   "execution_count": 5,
   "id": "9c0958f9",
   "metadata": {},
   "outputs": [
    {
     "name": "stdout",
     "output_type": "stream",
     "text": [
      "{'감': 35, '귤': 25, '배': 30, '사과': 35, '포도': 10}\n"
     ]
    }
   ],
   "source": [
    "dict_first = {'사과' : 30, '배' : 15, '감': 10, '포도': 10}\n",
    "dict_second = {'사과' : 5, '배' : 15, '감': 25, '귤': 25}\n",
    "\n",
    "def merge_dict(first, second):\n",
    "    for key_f in first:\n",
    "        for key_s in second:\n",
    "            if key_f == key_s : first[key_f] += second[key_s]\n",
    "    second.update(first)\n",
    "    second = dict(sorted(second.items()))\n",
    "    print(second)\n",
    "\n",
    "merge_dict(dict_first, dict_second)\n"
   ]
  },
  {
   "cell_type": "code",
   "execution_count": 6,
   "id": "5858c6de",
   "metadata": {},
   "outputs": [
    {
     "name": "stdout",
     "output_type": "stream",
     "text": [
      "['cat', 'dog', 'cow']\n"
     ]
    }
   ],
   "source": [
    "inputs = \"cat32dog16cow5\"\n",
    "\n",
    "def find_string(input):\n",
    "    input = list(input)\n",
    "    word = \"\"\n",
    "    output = []\n",
    "    for str in input:\n",
    "        if(str.isdigit()):\n",
    "            if word != \"\": output.append(word); word = \"\"\n",
    "        else:\n",
    "            word += str\n",
    "    return output\n",
    "\n",
    "string_list = find_string(inputs)\n",
    "print(string_list)"
   ]
  }
 ],
 "metadata": {
  "kernelspec": {
   "display_name": "Python 3 (ipykernel)",
   "language": "python",
   "name": "python3"
  },
  "language_info": {
   "codemirror_mode": {
    "name": "ipython",
    "version": 3
   },
   "file_extension": ".py",
   "mimetype": "text/x-python",
   "name": "python",
   "nbconvert_exporter": "python",
   "pygments_lexer": "ipython3",
   "version": "3.8.10"
  }
 },
 "nbformat": 4,
 "nbformat_minor": 5
}
