{
 "cells": [
  {
   "cell_type": "markdown",
   "id": "199dbc6a",
   "metadata": {},
   "source": [
    "# Dictionary"
   ]
  },
  {
   "cell_type": "markdown",
   "id": "069cfe1f",
   "metadata": {},
   "source": [
    "* key와 value를 매칭하여 key로 vlaue를 검색\n",
    "* 다른 언어에서는 Hash Table 이라는 용어를 사용"
   ]
  },
  {
   "cell_type": "code",
   "execution_count": 1,
   "id": "49a0c456",
   "metadata": {},
   "outputs": [
    {
     "data": {
      "text/plain": [
       "{'America': 1, 'Korea': 82, 'China': 86, 'Japan': 81}"
      ]
     },
     "execution_count": 1,
     "metadata": {},
     "output_type": "execute_result"
    }
   ],
   "source": [
    "country_code = {}\n",
    "country_code = {\"America\" : 1, \"Korea\" : 82, \"China\" : 86, \"Japan\" : 81}\n",
    "country_code"
   ]
  },
  {
   "cell_type": "code",
   "execution_count": 2,
   "id": "6a55609e",
   "metadata": {},
   "outputs": [
    {
     "data": {
      "text/plain": [
       "dict_keys(['America', 'Korea', 'China', 'Japan'])"
      ]
     },
     "execution_count": 2,
     "metadata": {},
     "output_type": "execute_result"
    }
   ],
   "source": [
    "country_code.keys()"
   ]
  },
  {
   "cell_type": "code",
   "execution_count": 3,
   "id": "621246f9",
   "metadata": {},
   "outputs": [
    {
     "data": {
      "text/plain": [
       "dict_values([1, 82, 86, 81])"
      ]
     },
     "execution_count": 3,
     "metadata": {},
     "output_type": "execute_result"
    }
   ],
   "source": [
    "country_code.values()"
   ]
  },
  {
   "cell_type": "code",
   "execution_count": 4,
   "id": "28d309ab",
   "metadata": {},
   "outputs": [
    {
     "data": {
      "text/plain": [
       "'Janhyeok'"
      ]
     },
     "execution_count": 4,
     "metadata": {},
     "output_type": "execute_result"
    }
   ],
   "source": [
    "student_info = {\n",
    "    20140012 : 'Janhyeok', \n",
    "    20140059 : 'Jiyong', \n",
    "    20140058 : 'JaeHong', \n",
    "    20140039 : 'Wonchul'}\n",
    "\n",
    "student_info[20140012]"
   ]
  },
  {
   "cell_type": "code",
   "execution_count": 5,
   "id": "86a99f5b",
   "metadata": {},
   "outputs": [
    {
     "name": "stdout",
     "output_type": "stream",
     "text": [
      "Key:  America\n",
      "Value:  1\n",
      "Key:  Korea\n",
      "Value:  82\n",
      "Key:  China\n",
      "Value:  86\n",
      "Key:  Japan\n",
      "Value:  81\n"
     ]
    }
   ],
   "source": [
    "for k, v in country_code.items():\n",
    "    print(\"Key: \", k)\n",
    "    print(\"Value: \", v)"
   ]
  },
  {
   "cell_type": "code",
   "execution_count": 6,
   "id": "2f084253",
   "metadata": {},
   "outputs": [],
   "source": [
    "country_code[\"German\"] = 49"
   ]
  },
  {
   "cell_type": "code",
   "execution_count": null,
   "id": "a0facef2",
   "metadata": {},
   "outputs": [],
   "source": []
  }
 ],
 "metadata": {
  "kernelspec": {
   "display_name": "Python 3 (ipykernel)",
   "language": "python",
   "name": "python3"
  },
  "language_info": {
   "codemirror_mode": {
    "name": "ipython",
    "version": 3
   },
   "file_extension": ".py",
   "mimetype": "text/x-python",
   "name": "python",
   "nbconvert_exporter": "python",
   "pygments_lexer": "ipython3",
   "version": "3.8.10"
  }
 },
 "nbformat": 4,
 "nbformat_minor": 5
}
