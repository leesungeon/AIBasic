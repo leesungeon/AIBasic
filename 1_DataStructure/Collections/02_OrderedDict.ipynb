{
 "cells": [
  {
   "cell_type": "markdown",
   "id": "35e269a7",
   "metadata": {},
   "source": [
    "# OrderedDict"
   ]
  },
  {
   "cell_type": "code",
   "execution_count": 1,
   "id": "fc7026c1",
   "metadata": {},
   "outputs": [],
   "source": [
    "from collections import OrderedDict"
   ]
  },
  {
   "cell_type": "code",
   "execution_count": 2,
   "id": "a9217445",
   "metadata": {},
   "outputs": [
    {
     "name": "stdout",
     "output_type": "stream",
     "text": [
      "x 100\n",
      "z 300\n",
      "y 200\n",
      "l 500\n"
     ]
    }
   ],
   "source": [
    "d = {}\n",
    "d['x'] = 100\n",
    "d['z'] = 300\n",
    "d['y'] = 200\n",
    "d['l'] = 500\n",
    "\n",
    "for k, v in d.items():\n",
    "    print(k, v)"
   ]
  },
  {
   "cell_type": "code",
   "execution_count": 3,
   "id": "5bacd240",
   "metadata": {},
   "outputs": [],
   "source": [
    "def get_key(x):\n",
    "    return x[0]"
   ]
  },
  {
   "cell_type": "code",
   "execution_count": 4,
   "id": "ae749844",
   "metadata": {},
   "outputs": [
    {
     "data": {
      "text/plain": [
       "[('l', 500), ('x', 100), ('y', 200), ('z', 300)]"
      ]
     },
     "execution_count": 4,
     "metadata": {},
     "output_type": "execute_result"
    }
   ],
   "source": [
    "sorted(d.items(), key=lambda t: t[0])"
   ]
  },
  {
   "cell_type": "code",
   "execution_count": 5,
   "id": "864d4b31",
   "metadata": {},
   "outputs": [
    {
     "name": "stdout",
     "output_type": "stream",
     "text": [
      "l 500\n",
      "x 100\n",
      "y 200\n",
      "z 300\n"
     ]
    }
   ],
   "source": [
    "for k, v in OrderedDict(sorted(d.items(), key=lambda t: t[0])).items():\n",
    "    print(k, v)"
   ]
  },
  {
   "cell_type": "code",
   "execution_count": null,
   "id": "eeb8784c",
   "metadata": {},
   "outputs": [],
   "source": []
  }
 ],
 "metadata": {
  "kernelspec": {
   "display_name": "Python 3 (ipykernel)",
   "language": "python",
   "name": "python3"
  },
  "language_info": {
   "codemirror_mode": {
    "name": "ipython",
    "version": 3
   },
   "file_extension": ".py",
   "mimetype": "text/x-python",
   "name": "python",
   "nbconvert_exporter": "python",
   "pygments_lexer": "ipython3",
   "version": "3.8.10"
  }
 },
 "nbformat": 4,
 "nbformat_minor": 5
}
