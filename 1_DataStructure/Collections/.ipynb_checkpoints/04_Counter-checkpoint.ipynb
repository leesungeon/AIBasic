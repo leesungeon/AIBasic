{
 "cells": [
  {
   "cell_type": "markdown",
   "id": "d5789b6d",
   "metadata": {},
   "source": [
    "# Counter"
   ]
  },
  {
   "cell_type": "markdown",
   "id": "aaefa660",
   "metadata": {},
   "source": [
    "* Sequence type의 data element들의 갯수를 dict 형태롤 반환"
   ]
  },
  {
   "cell_type": "code",
   "execution_count": 7,
   "id": "2247e4c9",
   "metadata": {},
   "outputs": [],
   "source": [
    "from collections import Counter"
   ]
  },
  {
   "cell_type": "code",
   "execution_count": 8,
   "id": "a77c17ff",
   "metadata": {},
   "outputs": [],
   "source": [
    "ball_or_strike_list = [\"B\", \"S\", \"S\" ,\"S\", \"S\", \"B\", \"B\"]"
   ]
  },
  {
   "cell_type": "code",
   "execution_count": 9,
   "id": "d0aaf707",
   "metadata": {},
   "outputs": [
    {
     "name": "stdout",
     "output_type": "stream",
     "text": [
      "Counter({'S': 4, 'B': 3})\n"
     ]
    },
    {
     "data": {
      "text/plain": [
       "2"
      ]
     },
     "execution_count": 9,
     "metadata": {},
     "output_type": "execute_result"
    }
   ],
   "source": [
    "c = Counter(ball_or_strike_list)\n",
    "print(c)\n",
    "len(c)"
   ]
  },
  {
   "cell_type": "code",
   "execution_count": 11,
   "id": "43e5362f",
   "metadata": {},
   "outputs": [
    {
     "data": {
      "text/plain": [
       "7"
      ]
     },
     "execution_count": 11,
     "metadata": {},
     "output_type": "execute_result"
    }
   ],
   "source": [
    "len(ball_or_strike_list)"
   ]
  },
  {
   "cell_type": "markdown",
   "id": "51d6ef16",
   "metadata": {},
   "source": [
    "* Set의 연산들을 지원함"
   ]
  },
  {
   "cell_type": "code",
   "execution_count": 13,
   "id": "7dd1d6ae",
   "metadata": {},
   "outputs": [
    {
     "name": "stdout",
     "output_type": "stream",
     "text": [
      "Counter({'a': 5, 'b': 4, 'c': 3, 'd': 2})\n",
      "Counter({'b': 2, 'a': 1})\n",
      "Counter({'a': 4, 'd': 4, 'c': 3, 'b': 2})\n"
     ]
    }
   ],
   "source": [
    "c = Counter(a = 4, b = 2, c = 0, d = -2)\n",
    "d = Counter(a = 1, b = 2, c = 3, d = 4)\n",
    "print(c + d)\n",
    "print(c & d)\n",
    "print(c | d)"
   ]
  },
  {
   "cell_type": "code",
   "execution_count": 18,
   "id": "0b69d86f",
   "metadata": {},
   "outputs": [
    {
     "name": "stdout",
     "output_type": "stream",
     "text": [
      "Counter({'and': 3, 'to': 3, 'a': 2, 'press': 2, 'release': 2, 'can': 2, 'you': 2, 'is': 1, 'the': 1, 'quickest': 1, 'easiest': 1, 'way': 1, 'get': 1, 'free': 1, 'publicity.': 1, 'if': 1, 'well': 1, 'ritten,': 1, 'result': 1, 'in': 1, 'multiple': 1, 'published': 1, 'articles': 1, 'about': 1, 'your': 1, 'firm': 1, 'its': 1, 'products.': 1, 'that': 1, 'mean': 1, 'new': 1, 'prospects': 1, 'contacting': 1, 'asking': 1, 'sell': 1, 'them.': 1, '....': 1})\n"
     ]
    }
   ],
   "source": [
    "text = \"\"\"A press release is the quickest and easiest way to get free publicity. If well ritten, a press release can result in multiple published articles about your firm and its products. And that can mean new prospects contacting you asking you to sell to them. ....\"\"\".lower().split()\n",
    "\n",
    "print(Counter(text))"
   ]
  },
  {
   "cell_type": "code",
   "execution_count": 21,
   "id": "ce381172",
   "metadata": {},
   "outputs": [
    {
     "data": {
      "text/plain": [
       "[('and', 3),\n",
       " ('to', 3),\n",
       " ('a', 2),\n",
       " ('press', 2),\n",
       " ('release', 2),\n",
       " ('can', 2),\n",
       " ('you', 2),\n",
       " ('is', 1),\n",
       " ('the', 1),\n",
       " ('quickest', 1),\n",
       " ('easiest', 1),\n",
       " ('way', 1),\n",
       " ('get', 1),\n",
       " ('free', 1),\n",
       " ('publicity.', 1),\n",
       " ('if', 1),\n",
       " ('well', 1),\n",
       " ('ritten,', 1),\n",
       " ('result', 1),\n",
       " ('in', 1),\n",
       " ('multiple', 1),\n",
       " ('published', 1),\n",
       " ('articles', 1),\n",
       " ('about', 1),\n",
       " ('your', 1),\n",
       " ('firm', 1),\n",
       " ('its', 1),\n",
       " ('products.', 1),\n",
       " ('that', 1),\n",
       " ('mean', 1),\n",
       " ('new', 1),\n",
       " ('prospects', 1),\n",
       " ('contacting', 1),\n",
       " ('asking', 1),\n",
       " ('sell', 1),\n",
       " ('them.', 1),\n",
       " ('....', 1)]"
      ]
     },
     "execution_count": 21,
     "metadata": {},
     "output_type": "execute_result"
    }
   ],
   "source": [
    "sorted(Counter(text).items(), key=lambda t : t[1], reverse = True)"
   ]
  },
  {
   "cell_type": "code",
   "execution_count": 22,
   "id": "fbc7f750",
   "metadata": {},
   "outputs": [
    {
     "name": "stdout",
     "output_type": "stream",
     "text": [
      "2\n"
     ]
    }
   ],
   "source": [
    "print(Counter(text)[\"a\"])"
   ]
  }
 ],
 "metadata": {
  "kernelspec": {
   "display_name": "Python 3 (ipykernel)",
   "language": "python",
   "name": "python3"
  },
  "language_info": {
   "codemirror_mode": {
    "name": "ipython",
    "version": 3
   },
   "file_extension": ".py",
   "mimetype": "text/x-python",
   "name": "python",
   "nbconvert_exporter": "python",
   "pygments_lexer": "ipython3",
   "version": "3.8.10"
  }
 },
 "nbformat": 4,
 "nbformat_minor": 5
}
