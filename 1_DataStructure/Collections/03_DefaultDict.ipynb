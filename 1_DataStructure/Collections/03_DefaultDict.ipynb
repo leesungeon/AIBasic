{
 "cells": [
  {
   "cell_type": "markdown",
   "id": "4a105f57",
   "metadata": {},
   "source": [
    "# DefaultDict"
   ]
  },
  {
   "cell_type": "markdown",
   "id": "25243fcb",
   "metadata": {},
   "source": [
    "* Dict Type의 값에 기본 값을 지정, 신규값 생성시 사용하는 방법"
   ]
  },
  {
   "cell_type": "code",
   "execution_count": 1,
   "id": "4569bedd",
   "metadata": {},
   "outputs": [],
   "source": [
    "def default_value():\n",
    "    return 10"
   ]
  },
  {
   "cell_type": "code",
   "execution_count": 3,
   "id": "604ff898",
   "metadata": {},
   "outputs": [
    {
     "data": {
      "text/plain": [
       "defaultdict(<function __main__.default_value()>, {})"
      ]
     },
     "execution_count": 3,
     "metadata": {},
     "output_type": "execute_result"
    }
   ],
   "source": [
    "from collections import defaultdict\n",
    "\n",
    "d = defaultdict(default_value)\n",
    "d"
   ]
  },
  {
   "cell_type": "code",
   "execution_count": 4,
   "id": "9f786544",
   "metadata": {},
   "outputs": [
    {
     "data": {
      "text/plain": [
       "10"
      ]
     },
     "execution_count": 4,
     "metadata": {},
     "output_type": "execute_result"
    }
   ],
   "source": [
    "d[\"first\"]"
   ]
  },
  {
   "cell_type": "code",
   "execution_count": 7,
   "id": "d991ff17",
   "metadata": {},
   "outputs": [],
   "source": [
    "text = \"\"\"A press release is the quickest and easiest way to get free publicity. If well ritten, a press release can result in multiple published articles about your firm and its products. And that can mean new prospects contacting you asking you to sell to them. ....\"\"\".lower().split()"
   ]
  },
  {
   "cell_type": "code",
   "execution_count": 9,
   "id": "a932b398",
   "metadata": {},
   "outputs": [
    {
     "data": {
      "text/plain": [
       "['a',\n",
       " 'press',\n",
       " 'release',\n",
       " 'is',\n",
       " 'the',\n",
       " 'quickest',\n",
       " 'and',\n",
       " 'easiest',\n",
       " 'way',\n",
       " 'to',\n",
       " 'get',\n",
       " 'free',\n",
       " 'publicity.',\n",
       " 'if',\n",
       " 'well',\n",
       " 'ritten,',\n",
       " 'a',\n",
       " 'press',\n",
       " 'release',\n",
       " 'can',\n",
       " 'result',\n",
       " 'in',\n",
       " 'multiple',\n",
       " 'published',\n",
       " 'articles',\n",
       " 'about',\n",
       " 'your',\n",
       " 'firm',\n",
       " 'and',\n",
       " 'its',\n",
       " 'products.',\n",
       " 'and',\n",
       " 'that',\n",
       " 'can',\n",
       " 'mean',\n",
       " 'new',\n",
       " 'prospects',\n",
       " 'contacting',\n",
       " 'you',\n",
       " 'asking',\n",
       " 'you',\n",
       " 'to',\n",
       " 'sell',\n",
       " 'to',\n",
       " 'them.',\n",
       " '....']"
      ]
     },
     "execution_count": 9,
     "metadata": {},
     "output_type": "execute_result"
    }
   ],
   "source": [
    "text"
   ]
  },
  {
   "cell_type": "code",
   "execution_count": 10,
   "id": "1c780c07",
   "metadata": {},
   "outputs": [],
   "source": [
    "def get_key(x):\n",
    "    return x[1]"
   ]
  },
  {
   "cell_type": "code",
   "execution_count": 11,
   "id": "0d84ee5f",
   "metadata": {},
   "outputs": [],
   "source": [
    "from collections import OrderedDict"
   ]
  },
  {
   "cell_type": "code",
   "execution_count": 12,
   "id": "a40325e6",
   "metadata": {},
   "outputs": [
    {
     "data": {
      "text/plain": [
       "defaultdict(<function __main__.<lambda>()>, {})"
      ]
     },
     "execution_count": 12,
     "metadata": {},
     "output_type": "execute_result"
    }
   ],
   "source": [
    "d = defaultdict(lambda : 0)\n",
    "d"
   ]
  },
  {
   "cell_type": "code",
   "execution_count": 14,
   "id": "d6665d74",
   "metadata": {},
   "outputs": [
    {
     "data": {
      "text/plain": [
       "defaultdict(<function __main__.<lambda>()>,\n",
       "            {'a': 4,\n",
       "             'press': 4,\n",
       "             'release': 4,\n",
       "             'is': 2,\n",
       "             'the': 2,\n",
       "             'quickest': 2,\n",
       "             'and': 6,\n",
       "             'easiest': 2,\n",
       "             'way': 2,\n",
       "             'to': 6,\n",
       "             'get': 2,\n",
       "             'free': 2,\n",
       "             'publicity.': 2,\n",
       "             'if': 2,\n",
       "             'well': 2,\n",
       "             'ritten,': 2,\n",
       "             'can': 4,\n",
       "             'result': 2,\n",
       "             'in': 2,\n",
       "             'multiple': 2,\n",
       "             'published': 2,\n",
       "             'articles': 2,\n",
       "             'about': 2,\n",
       "             'your': 2,\n",
       "             'firm': 2,\n",
       "             'its': 2,\n",
       "             'products.': 2,\n",
       "             'that': 2,\n",
       "             'mean': 2,\n",
       "             'new': 2,\n",
       "             'prospects': 2,\n",
       "             'contacting': 2,\n",
       "             'you': 4,\n",
       "             'asking': 2,\n",
       "             'sell': 2,\n",
       "             'them.': 2,\n",
       "             '....': 2})"
      ]
     },
     "execution_count": 14,
     "metadata": {},
     "output_type": "execute_result"
    }
   ],
   "source": [
    "for word in text:\n",
    "    d[word] += 1\n",
    "\n",
    "d"
   ]
  },
  {
   "cell_type": "code",
   "execution_count": 15,
   "id": "40ef5fbc",
   "metadata": {},
   "outputs": [
    {
     "data": {
      "text/plain": [
       "OrderedDict([('and', 6),\n",
       "             ('to', 6),\n",
       "             ('a', 4),\n",
       "             ('press', 4),\n",
       "             ('release', 4),\n",
       "             ('can', 4),\n",
       "             ('you', 4),\n",
       "             ('is', 2),\n",
       "             ('the', 2),\n",
       "             ('quickest', 2),\n",
       "             ('easiest', 2),\n",
       "             ('way', 2),\n",
       "             ('get', 2),\n",
       "             ('free', 2),\n",
       "             ('publicity.', 2),\n",
       "             ('if', 2),\n",
       "             ('well', 2),\n",
       "             ('ritten,', 2),\n",
       "             ('result', 2),\n",
       "             ('in', 2),\n",
       "             ('multiple', 2),\n",
       "             ('published', 2),\n",
       "             ('articles', 2),\n",
       "             ('about', 2),\n",
       "             ('your', 2),\n",
       "             ('firm', 2),\n",
       "             ('its', 2),\n",
       "             ('products.', 2),\n",
       "             ('that', 2),\n",
       "             ('mean', 2),\n",
       "             ('new', 2),\n",
       "             ('prospects', 2),\n",
       "             ('contacting', 2),\n",
       "             ('asking', 2),\n",
       "             ('sell', 2),\n",
       "             ('them.', 2),\n",
       "             ('....', 2)])"
      ]
     },
     "execution_count": 15,
     "metadata": {},
     "output_type": "execute_result"
    }
   ],
   "source": [
    "sorted_dict = OrderedDict()\n",
    "for i, v in sorted(d.items(), key=get_key, reverse=True):\n",
    "    sorted_dict[i] = v\n",
    "\n",
    "sorted_dict"
   ]
  }
 ],
 "metadata": {
  "kernelspec": {
   "display_name": "Python 3 (ipykernel)",
   "language": "python",
   "name": "python3"
  },
  "language_info": {
   "codemirror_mode": {
    "name": "ipython",
    "version": 3
   },
   "file_extension": ".py",
   "mimetype": "text/x-python",
   "name": "python",
   "nbconvert_exporter": "python",
   "pygments_lexer": "ipython3",
   "version": "3.8.10"
  }
 },
 "nbformat": 4,
 "nbformat_minor": 5
}
